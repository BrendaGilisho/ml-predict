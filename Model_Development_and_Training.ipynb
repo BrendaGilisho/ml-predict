{
  "nbformat": 4,
  "nbformat_minor": 0,
  "metadata": {
    "colab": {
      "provenance": [],
      "authorship_tag": "ABX9TyNxp/zOeQbcQgClLIWT9SJH",
      "include_colab_link": true
    },
    "kernelspec": {
      "name": "python3",
      "display_name": "Python 3"
    },
    "language_info": {
      "name": "python"
    }
  },
  "cells": [
    {
      "cell_type": "markdown",
      "metadata": {
        "id": "view-in-github",
        "colab_type": "text"
      },
      "source": [
        "<a href=\"https://colab.research.google.com/github/BrendaGilisho/ml-predict/blob/main/Model_Development_and_Training.ipynb\" target=\"_parent\"><img src=\"https://colab.research.google.com/assets/colab-badge.svg\" alt=\"Open In Colab\"/></a>"
      ]
    },
    {
      "cell_type": "markdown",
      "source": [],
      "metadata": {
        "id": "do3w4GzFFtmu"
      }
    },
    {
      "cell_type": "code",
      "execution_count": 1,
      "metadata": {
        "colab": {
          "base_uri": "https://localhost:8080/"
        },
        "id": "CqvQtQOqXbMf",
        "outputId": "98fc5101-21e1-461f-93f8-e936693856a1"
      },
      "outputs": [
        {
          "output_type": "stream",
          "name": "stdout",
          "text": [
            "Mounted at /content/drive\n"
          ]
        }
      ],
      "source": [
        "from google.colab import drive\n",
        "drive.mount('/content/drive')"
      ]
    },
    {
      "cell_type": "code",
      "source": [
        "from nltk.corpus import stopwords\n",
        "import string\n",
        "import nltk\n",
        "nltk.download('stopwords')\n",
        "import re\n",
        "def load_doc(filename):\n",
        "# open the file as read only\n",
        "    file = open(filename, 'r' )\n",
        "# read all text\n",
        "    text = file.read()\n",
        "# close the file\n",
        "    file.close()\n",
        "    return text"
      ],
      "metadata": {
        "colab": {
          "base_uri": "https://localhost:8080/"
        },
        "id": "l5kJcGROA4U7",
        "outputId": "6b9a6376-1da5-4531-f152-41f37127fd2f"
      },
      "execution_count": 2,
      "outputs": [
        {
          "output_type": "stream",
          "name": "stderr",
          "text": [
            "[nltk_data] Downloading package stopwords to /root/nltk_data...\n",
            "[nltk_data]   Unzipping corpora/stopwords.zip.\n"
          ]
        }
      ]
    },
    {
      "cell_type": "code",
      "source": [
        "def clean_doc(doc):\n",
        "# split into tokens by white space\n",
        "    tokens = doc.split()\n",
        "# prepare regex for char filtering\n",
        "    re_punc = re.compile( ' [%s] ' % re.escape(string.punctuation))\n",
        "# remove punctuation from each word\n",
        "    tokens = [re_punc.sub( '' , w) for w in tokens]\n",
        "# remove remaining tokens that are not alphabetic\n",
        "    tokens = [word for word in tokens if word.isalpha()]\n",
        "# filter out stop words\n",
        "    stop_words = set(stopwords.words( 'english' ))\n",
        "    tokens = [w for w in tokens if not w in stop_words]\n",
        "# filter out short tokens\n",
        "    tokens = [word for word in tokens if len(word) > 1]\n",
        "    return tokens"
      ],
      "metadata": {
        "id": "QhYKaU8EA4yC"
      },
      "execution_count": 3,
      "outputs": []
    },
    {
      "cell_type": "code",
      "source": [
        "filename = '/content/drive/My Drive/ML/twitter/test.txt'\n",
        "text = load_doc(filename)\n",
        "tokens = clean_doc(text)\n",
        "print(tokens)"
      ],
      "metadata": {
        "colab": {
          "base_uri": "https://localhost:8080/"
        },
        "id": "l-4qtwxFA5Ox",
        "outputId": "cc5609c3-958a-44bd-9ff0-8597455314d2"
      },
      "execution_count": 4,
      "outputs": [
        {
          "output_type": "stream",
          "name": "stdout",
          "text": [
            "['years', 'since', 'diagnosed', 'Today', 'taking', 'moment', 'reflect', 'far', 'come', 'need', 'planning', 'spend', 'little', 'time', 'possible', 'Awake', 'need', 'sleep', 'brain', 'RT', 'bears', 'make', 'perfect', 'gifts', 'great', 'beginners', 'Get', 'stitching', 'Sew', 'sale', 'hard', 'say', 'whether', 'packing', 'lists', 'making', 'life', 'easier', 'reinforcing', 'much', 'still', 'needs', 'Making', 'packing', 'lists', 'new', 'At', 'point', 'keeping', 'stuff', 'nostalgic', 'reasons', 'cross', 'line', 'plain', 'old', 'Currently', 'packing', 'think', 'closet', 'bothered', 'take', 'away', 'way', 'RT', 'ITV', 'releases', 'promo', 'video', 'final', 'series', 'Downton', 'Abbey', 'much', 'way', 'much', 'never', 'want', 'put', 'one', 'together', 'Moving', 'stuff', 'still', 'loads', 'Back', 'moving', 'peaceful', 'FFS', 'come', 'much', 'way', 'Massive', 'purge', 'Hideous', 'traffic', 'Must', 'remember', 'pay', 'closer', 'attention', 'traffic', 'Packing', 'Feels', 'good', 'In', 'looking', 'internal', 'Fun', 'times', 'Time', 'get', 'So', 'many', 'things', 'busy', 'day', 'get', 'lie', 'little', 'longer', 'cat', 'nothing', 'like', 'cocktails', 'exhaustion', 'aid', 'good', 'Great', 'night', 'favourite', 'Much', 'needed', 'past', 'love', 'much', 'Sat', 'sofa', 'quick', 'hour', 'Need', 'How', 'much', 'want', 'pizza', 'right', 'always', 'love', 'Peter', 'Gabriel', 'In', 'Your', 'Eyes', 'Such', 'busy', 'day', 'need', 'focus', 'feeling', 'edge', 'derailment', 'right', 'Even', 'smallest', 'thing', 'still', 'makes', 'heart', 'feel', 'like', 'ever', 'goes', 'Why', 'choosing', 'curtain', 'pole', 'suddenly', 'And', 'know', 'Completed', 'Got', 'What', 'fab', 'RT', 'Hi', 'could', 'retweet', 'long', 'Sammy', 'Photographed', 'Big', 'day', 'today', 'How', 'lovely', 'RT', 'The', 'weather', 'outside', 'makes', 'sneak', 'peak', 'October', 'good', 'news', 'least', 'Had', 'headache', 'took', 'For', 'three', 'Woke', 'bit', 'confused', 'time', 'RT', 'On', 'We', 'recipes', 'less', 'head', 'compromise', 'RT', 'RT', 'Please', 'RT', 'old', 'dog', 'owner', 'getting', 'distraught', 'lost', 'dog', 'Flying', 'displays', 'vintage', 'jets', 'notice', 'CAA', 'limited', 'fly', 'RT', 'Happy', 'If', 'need', 'bit', 'get', 'check', 'They', 'sleep', 'like', 'Truly', 'awful', 'understand', 'What', 'Baalshamin', 'temple', 'RT', 'Cigarettes', 'made', 'green', 'tea', 'claim', 'help', 'quit', 'smoking', 'Not', 'get', 'morning', 'two', 'whole', 'feel', 'like', 'invisible', 'hand', 'trying', 'remove', 'eyeballs', 'spoon', 'RT', 'latest', 'hair', 'trend', 'It', 'feels', 'like', 'coverage', 'alt', 'media', 'gone', 'beyond', 'news', 'The', 'entirely', 'Mail', 'Online', 'barely', 'awful', 'The', 'awfulness', 'Heartbreaking', 'Lazy', 'afternoon', 'snooze', 'kitty', 'The', 'pain', 'heartbreak', 'tragedy', 'confusing', 'feel', 'sadness', 'south', 'coast', 'friends', 'Pouring', 'rain', 'That', 'sun', 'last', 'RT', 'Friends', 'footballers', 'pay', 'tribute', 'teammates', 'done', 'nothing', 'last', 'need', 'stand', 'stuff', 'RT', 'Comfy', 'Sunday', 'Our', 'cushion', 'blog', 'post', 'make', 'RT', 'diversion', 'route', 'likely', 'remain', 'place', 'day', 'Shoreham', 'air', 'crash', 'new', 'media', 'highlights', 'hypocrisy', 'Tragedy', 'many', 'choose', 'ignore', 'doorstep', 'hope', 'pilot', 'pulls', 'enough', 'death', 'today', 'keep', 'seeing', 'comments', 'pilot', 'If', 'true', 'find', 'quite', 'incredible', 'awful', 'shake', 'image', 'unsuspecting', 'driving', 'minding', 'Tragically', 'Dear', 'Horrific', 'image', 'awful', 'RT', 'people', 'confirmed', 'dead', 'plane', 'crashed', 'several', 'vehicles', 'Airshow', 'BBC', 'reporting', 'fatalities', 'far', 'Just', 'awful', 'Toaster', 'shopping', 'needlessly', 'Finding', 'hard', 'find', 'decent', 'quality', 'toaster', 'reasonable', 'All', 'boring', 'cheap', 'RT', 'This', 'sad', 'footage', 'released', 'air', 'The', 'content', 'obviously', 'thought', 'What', 'awful', 'hope', 'casualties', 'So', 'true', 'Sofa', 'My', 'cat', 'always', 'overjoyed', 'see', 'every', 'That', 'kind', 'love', 'priceless', 'beach', 'trip', 'going', 'Cool', 'awesome', 'Your', 'commentary', 'great', 'Now', 'want', 'RT', 'spotted', 'heading', 'east', 'keep', 'look', 'Just', 'finished', 'service', 'centre', 'call', 'make', 'want', 'cry', 'punch', 'Good', 'work', 'Eon', 'RT', 'Man', 'taken', 'hospital', 'suffering', 'arm', 'wrestling', 'injury', 'Mill', 'Road', 'found', 'end', 'spoke', 'helpful', 'young', 'All', 'last', 'spoke', 'helpful', 'young', 'All', 'trying', 'find', 'number', 'phone', 'new', 'account', 'find', 'Please', 'Fragile', 'egos', 'umbrage', 'taken', 'need', 'RT', 'Our', 'dogs', 'desperate', 'friends', 'would', 'grateful', 'Two', 'weeks', 'need', 'get', 'away', 'work', 'RT', 'things', 'know', 'could', 'Malteasers', 'epic', 'Feeling', 'strange', 'mix', 'excited', 'Such', 'big', 'change', 'Very', 'liberating', 'many', 'ways', 'This', 'last', 'time', 'going', 'take', 'bus', 'Feels', 'need', 'care', 'less', 'want', 'hard', 'heart', 'know', 'allow', 'feel', 'disappointment', 'someone', 'even', 'Last', 'day', 'office', 'Horrible', 'muggy', 'weather', 'going', 'miss', 'living', 'road', 'people', 'drive', 'like', 'Walking', 'occurs', 'home', 'possible', 'miss', 'Wondering', 'turn', 'decided', 'life', 'NEEDS', 'pink', 'cuddler', 'love', 'story', 'Good', 'luck', 'kids', 'getting', 'GCSE', 'results', 'today', 'No', 'people', 'Can', 'faffing', 'considered', 'good', 'absolutely', 'All', 'think', 'right', 'sofa', 'lol', 'suppose', 'get', 'Need', 'sleep', 'exciting', 'day', 'still', 'buzzed', 'Mini', 'hog', 'earlier', 'One', 'two', 'moved', 'RT', 'The', 'best', 'times', 'post', 'Twitter', 'Another', 'milestone', 'insurance', 'final', 'viewing', 'deposit', 'exchange', 'imminent', 'This', 'miss', 'every', 'single', 'think', 'know', 'true', 'either', 'eyelash', 'elephant', 'Either', 'way', 'net', 'result', 'RT', 'ELEPHANT', 'FACT', 'OF', 'THE', 'An', 'elephant', 'herd', 'considered', 'one', 'closely', 'knit', 'societies', 'beautiful', 'adopted', 'CHAT', 'Loving', 'last', 'week', 'still', 'use', 'Interesting', 'BBC', 'News', 'Better', 'diagnosis', 'call', 'adults', 'ADHD', 'Spopie', 'Cementing', 'status', 'crocheting', 'staff', 'Hear', 'hear', 'Never', 'thought', 'say', 'glad', 'distraction', 'Something', 'keep', 'productive', 'It', 'feels', 'autumnal', 'Made', 'Jess', 'RT', 'Community', 'rallies', 'behind', 'former', 'soldier', 'seen', 'begging', 'Beehive', 'Centre', 'RT', 'ago', 'puppy', 'abandoned', 'took', 'adopted', 'Today', 'swims', 'California', 'miss', 'every', 'single', 'Some', 'days', 'feels', 'like', 'House', 'smells', 'Cotton', 'granny', 'pink', 'grey', 'little', 'car', 'year', 'Happy', 'Birthday', 'little', 'still', 'going', 'strong', 'bad', 'week', 'calls', 'Ely', 'Gorgeous', 'day', 'drive', 'Ely', 'Ely', 'Catherdral', 'thought', 'said', 'could', 'looks', 'awful', 'hope', 'okay', 'xx', 'RT', 'In', 'Severe', 'weather', 'hits', 'Sussex', 'Block', 'another', 'traditional', 'Hog', 'This', 'This', 'crochet', 'angry', 'Too', 'many', 'extremes', 'crochet', 'mix', 'Feeling', 'emotionally', 'Time', 'stress', 'free', 'Crochet', 'Penguins', 'Madagascar', 'RT', 'Read', 'wonderful', 'blog', 'elephant', 'conservation', 'RT', 'Read', 'wonderful', 'blog', 'elephant', 'conservation', 'RT', 'RT', 'Arriving', 'welcomed', 'colorful', 'nature', 'RT', 'Aboard', 'aquatic', 'combines', 'weeds', 'Cambs', 'waterways', 'yep', 'Big', 'supper', 'magical', 'little', 'beastie', 'RT', 'Marley', 'Zena', 'looking', 'fab', 'rescue', 'owner', 'let', 'almost', 'Owning', 'dog', 'RT', 'Such', 'magical', 'sky', 'It', 'changes', 'seconds', 'Beautiful', 'sky', 'tonight', 'rare', 'Tuesday', 'treat', 'dinner', 'Bought', 'decide', 'super', 'organised', 'waaay', 'sorry', 'hear', 'Pets', 'heartbreaking', 'Dixie', 'lovely', 'life', 'Must', 'remember', 'Gorilla', 'Has', 'Amazing', 'Reaction', 'When', 'Reunited', 'With', 'Man', 'That', 'Took', 'Care', 'Of', 'Him', 'For', 'Years', 'RT', 'Test', 'eyes', 'playing', 'game', 'scored', 'points', 'game', 'guess', 'colors', 'score', 'Mind', 'Need', 'Square', 'done', 'glad', 'see', 'survived', 'brutality', 'Stay', 'safe', 'remembered', 'new', 'house', 'range', 'Looking', 'forward', 'road', 'testing', 'Square', 'lacy', 'pale', 'blue', 'DK', 'yarn', 'squares', 'made', 'RT', 'Have', 'look', 'around', 'Milton', 'Country', 'found', 'prettiest', 'spots', 'RT', 'Happy', 'Deckchair', 'Watching', 'Pitch', 'Perfect', 'Pat', 'Benatar', 'We', 'Belong', 'Natalie', 'Two', 'hoggles', 'dinner', 'far', 'RT', 'student', 'chosen', 'exhibit', 'alongside', 'Hogarth', 'Reynolds', 'National', 'Portrait', 'Gallery', 'beautiful', 'lovely', 'Emotional', 'self', 'Do', 'trouble', 'getting', 'Getting', 'Have', 'ever', 'mental', 'health', 'check', 'Free', 'mental', 'health', 'check', 'ups', 'How', 'common', 'bed', 'wetting', 'Does', 'wet', 'Have', 'come', 'across', 'children', 'Effects', 'verbal', 'abuse', 'What', 'think', 'conversion', 'Disturbing', 'conversion', 'Have', 'every', 'visited', 'someone', 'Things', 'know', 'going', 'Have', 'witnessed', 'someone', 'wear', 'turbans', 'Do', 'know', 'someone', 'may', 'How', 'let', 'go', 'Help', 'loved', 'ones', 'committed', 'possibly', 'combination', 'Teens', 'smoking', 'less', 'Are', 'Is', 'link', 'brain', 'size', 'Emotional', 'How', 'let', 'go', 'someone', 'treats', 'Can', 'help', 'quit', 'Chronic', 'pain', 'Support', 'groups', 'parents', 'children', 'African', 'American', 'use', 'Is', 'well', 'Does', 'improve', 'mental', 'spouse', 'survival', 'Self', 'well', 'Do', 'know', 'Few', 'options', 'violent', 'What', 'kept', 'getting', 'Recognizing', 'signs', 'Quality', 'How', 'finally', 'What', 'know', 'pathological', 'Ways', 'recharge', 'mental', 'much', 'What', 'breast', 'genes', 'unlock', 'potential', 'treatment', 'linked', 'Why', 'mental', 'illness', 'sometimes', 'guide', 'mental', 'mess', 'still', 'get', 'Do', 'think', 'Counseling', 'helps', 'ways', 'south', 'Asian', 'Showing', 'respect', 'symptoms', 'Why', 'blame', 'school', 'shootings', 'The', 'states', 'Older', 'women', 'still', 'enjoy', 'How', 'earn', 'back', 'Does', 'make', 'others', 'want', 'around', 'What', 'different', 'ways', 'express', 'Do', 'fear', 'How', 'laziness', 'impacted', 'social', 'Has', 'holding', 'onto', 'resentments', 'helped', 'hurt', 'Have', 'mood', 'swings', 'cost', 'important', 'Are', 'teaching', 'children', 'discriminate', 'accept', 'Just', 'spanked', 'make', 'right', 'spank', 'Does', 'spanking', 'children', 'teach', 'Do', 'know', 'increase', 'intimacy', 'Intimacy', 'result', 'effective', 'treatment', 'effective', 'treatment', 'Are', 'aware', 'Have', 'lost', 'desire', 'eat', 'feel', 'Have', 'lost', 'interest', 'everything', 'used', 'Do', 'lack', 'energy', 'get', 'Do', 'relive', 'traumatic', 'events', 'happened', 'Counseling', 'Are', 'bad', 'memories', 'triggered', 'particular', 'person', 'place', 'How', 'often', 'experience', 'bad', 'Does', 'worrying', 'keep', 'falling', 'asleep', 'every', 'Has', 'anyone', 'expressed', 'concern', 'much', 'Does', 'excessive', 'worrying', 'keep', 'things', 'Do', 'know', 'excessive', 'worrying', 'symptom', 'What', 'keeps', 'New', 'theory', 'Is', 'nature', 'good', 'The', 'science', 'qualities', 'behaviors', 'postive', 'found', 'different', 'There', 'mixing', 'alcohol', 'Feelings', 'due', 'drunken', 'behavior', 'distant', 'Waking', 'smell', 'vomit', 'soiled', 'sheets', 'longer', 'The', 'nauseousness', 'hung', 'Smelling', 'like', 'distillery', 'day', 'work', 'come', 'The', 'put', 'stop', 'risky', 'unprotected', 'We', 'miss', 'guilt', 'kissing', 'fondling', 'behind', 'others', 'flipping', 'tables', 'misunderstanding', 'bar', 'thing', 'Bills', 'longer', 'piling', 'put', 'No', 'anxiousness', 'fearfulness', 'driving', 'day', 'drinking', 'Arguing', 'front', 'children', 'family', 'members', 'thing', 'We', 'longer', 'worry', 'going', 'parties', 'spouses', 'touchy', 'feely', 'We', 'said', 'goodbye', 'waking', 'remembering', 'last', 'We', 'go', 'give', 'Do', 'know', 'someone', 'life', 'disrupted', 'hooked', 'internet', 'Why', 'free', 'porn', 'Have', 'ever', 'trouble', 'connecting', 'Opposite', 'Can', 'recognize', 'food', 'right', 'front', 'Food', 'addiction', 'Eating', 'Do', 'think', 'habit', 'becoming', 'How', 'habit', 'becomes', 'Do', 'know', 'medical', 'marijuana', 'regulations', 'California', 'medical', 'Do', 'know', 'illicit', 'sold', 'Have', 'experienced', 'due', 'access', 'More', 'internet', 'How', 'many', 'people', 'family', 'used', 'How', 'people', 'get', 'Have', 'every', 'received', 'ticket', 'Does', 'internet', 'use', 'get', 'way', 'tending', 'normal', 'daily', 'Is', 'Internet', 'What', 'find', 'Likely', 'cause', 'Have', 'seen', 'harmful', 'effects', 'crystal', 'meth', 'Why', 'girls', 'take', 'crystal', 'Do', 'clients', 'prefer', 'step', 'program', 'individual', 'sessions', 'drug', 'Models', 'drug', 'Just', 'watching', 'someone', 'take', 'drink', 'trigger', 'What', 'triggers', 'Have', 'ever', 'seen', 'someone', 'try', 'medicate', 'mood', 'swings', 'Bipolar', 'drug', 'Do', 'know', 'arrested', 'Is', 'medical', 'problem', 'criminal', 'Do', 'know', 'someone', 'literally', 'bets', 'whole', 'pay', 'Sometimes', 'unlikely', 'people', 'Sanders', 'battled', 'drug', 'Have', 'ever', 'used', 'prescription', 'Who', 'gets', 'prescription', 'Are', 'concerned', 'someone', 'know', 'may', 'What', 'Have', 'witnessed', 'benefits', 'medical', 'Medical', 'benefits', 'Have', 'ever', 'tried', 'stop', 'bad', 'habit', 'changing', 'bad', 'How', 'desperate', 'fix', 'CBT', 'treat', 'If', 'miss', 'work', 'personal', 'conflicts', 'habit', 'may', 'What', 'love', 'How', 'spice', 'Dealing', 'What', 'focus', 'How', 'work', 'increasing', 'Tricks', 'help', 'reduce', 'How', 'work', 'Living', 'How', 'could', 'working', 'drugs', 'linked', 'How', 'find', 'holding', 'skills', 'use', 'right', 'important', 'Hollywood', 'What', 'would', 'perfect', 'look', 'like', 'How', 'talk', 'How', 'practicing', 'impact', 'ones', 'child', 'What', 'happened', 'used', 'issues', 'may', 'lead', 'chronic', 'pain', 'What', 'continue', 'hide', 'Poor', 'sleep', 'may', 'predict', 'developmental', 'What', 'Keeping', 'What', 'concerns', 'need', 'meds', 'feel', 'What', 'violence', 'signs', 'What', 'Which', 'countries', 'What', 'concerns', 'How', 'raise', 'mentally', 'strong', 'Why', 'share', 'drinking', 'concerns', 'Fight', 'physical', 'Why', 'single', 'long', 'Mentally', 'ill', 'left', 'Why', 'think', 'life', 'Royals', 'shine', 'light', 'Why', 'people', 'serious', 'childhood', 'Why', 'feel', 'needing', 'women', 'Who', 'turn', 'Talking', 'best', 'What', 'keeps', 'opening', 'someone', 'foster', 'care', 'What', 'keeps', 'making', 'healthy', 'Living', 'Do', 'gifted', 'The', 'problem', 'How', 'handle', 'Mantras', 'divorcing', 'parties', 'Have', 'heard', 'age', 'related', 'normal', 'part', 'Do', 'friends', 'understand', 'health', 'When', 'friends', 'understand', 'mental', 'Did', 'know', 'death', 'cause', 'When', 'realize', 'lies', 'actually', 'More', 'What', 'would', 'happen', 'friends', 'found', 'recovering', 'Have', 'ever', 'noticed', 'high', 'How', 'handle', 'employee', 'How', 'would', 'know', 'spouse', 'fell', 'love', 'fell', 'love', 'How', 'impact', 'The', 'impact', 'How', 'Your', 'partner', 'read', 'Do', 'remember', 'Teach', 'Can', 'tell', 'feeling', 'opposed', 'How', 'long', 'attacks', 'Have', 'ever', 'mental', 'Brief', 'check', 'Do', 'know', 'one', 'diagnosed', 'Famous', 'figures', 'mental', 'Have', 'ever', 'Is', 'Has', 'every', 'got', 'best', 'Tackling', 'feelings', 'What', 'thoughts', 'Is', 'Have', 'every', 'distracted', 'voices', 'When', 'stop', 'sleeping', 'light', 'Are', 'Do', 'think', 'treatment', 'Significant', 'undertreatment', 'How', 'impact', 'daily', 'Overcoming', 'What', 'medications', 'work', 'best', 'How', 'tell', 'boss', 'Beyond', 'improving', 'health', 'surgery', 'increases', 'risk', 'Reducing', 'separation', 'What', 'people', 'better', 'How', 'avoided', 'high', 'like', 'The', 'dark', 'side', 'prescription', 'What', 'know', 'Mass', 'rely', 'past', 'conquering', 'What', 'emotional', 'psychological', 'subtle', 'foe', 'Parents', 'influence', 'decisions', 'drunk', 'Myths', 'undermine', 'Is', 'adult', 'ADHD', 'linked', 'How', 'help', 'beat', 'died', 'like', 'date', 'someone', 'How', 'take', 'care', 'kids', 'Have', 'ever', 'suffered', 'low', 'How', 'informed', 'psychiatric', 'What', 'treatment', 'options', 'someone', 'Are', 'disciplined', 'enough', 'practice', 'daily', 'What', 'things', 'raise', 'competent', 'What', 'tried', 'attempt', 'quit', 'How', 'Do', 'know', 'signs', 'bad', 'How', 'would', 'handle', 'Is', 'difference', 'low', 'mood', 'What', 'chances', 'sufferers', 'may', 'How', 'could', 'supportive', 'What', 'methods', 'use', 'How', 'often', 'see', 'others', 'practicing', 'On', 'October', 'diagnosed', 'serious', 'still', 'choose', 'hide', 'behind', 'fake', 'Life', 'endless', 'labyrinth', 'pain', 'sorrow', 'walk', 'trying', 'find', 'For', 'happiness', 'impossible', 'RT', 'laughing', 'far', 'long', 'sweet', 'stalking', 'work', 'You', 'guys', 'gotta', 'show', 'get', 'many', 'want', 'like', 'cool', 'true', 'love', 'Was', 'first', 'groups', 'beat', 'entire', 'Hard', 'Crota', 'Risen', 'Impulse', 'would', 'really', 'appreciate', 'could', 'Was', 'supposed', 'Risen', 'Impulse', 'We', 'Crota', 'low', 'went', 'enraged', 'without', 'list', 'acting', 'Are', 'guys', 'even', 'trying', 'fix', 'list', 'RT', 'Girls', 'need', 'understand', 'RT', 'This', 'She', 'wants', 'meet', 'one', 'Please', 'RT', 'officially', 'decided', 'start', 'working', 'The', 'list', 'still', 'needed', 'What', 'click', 'An', 'error', 'pops', 'says', 'try', 'stream', 'follow', 'want', 'Girls', 'Exam', 'week', 'much', 'daltonlikespancakes', 'Jonathan', 'working', 'tonight', 'She', 'At', 'sagebrush', 'another', 'found', 'diagnosed', 'severe', 'Limbic', 'Just', 'got', 'makes', 'feel', 'another', 'doctor', 'appointment', 'Bums', 'think', 'die', 'went', 'Warped', 'Tour', 'think', 'The', 'epic', 'chip', 'ever', 'pulled', 'Lays', 'chip', 'Hardcore', 'It', 'takes', 'bus', 'driver', 'minutes', 'come', 'pick', 'Bitch', 'Good', 'morning', 'go', 'school', 'Well', 'nice', 'like', 'hide', 'light', 'section', 'judge', 'tell', 'wanna', 'really', 'hope', 'go', 'Warped', 'like', 'whole', 'know', 'music', 'pretty', 'important', 'listen', 'song', 'Do', 'Do', 'lives', 'somewhere', 'far', 'us', 'Forgotten', 'taste', 'smile', 'night', 'posts', 'picture', 'hideous', 'spider', 'She', 'said', 'would', 'lay', 'eggs', 'rich', 'wage', 'poor', 'love', 'kinds', 'love', 'amazing', 'doctors', 'appointment', 'get', 'feel', 'like', 'crazy', 'person', 'Good', 'hope', 'gonna', 'nice', 'Oh', 'All', 'fantastic', 'new', 'bands', 'getting', 'definitely', 'RT', 'If', 'could', 'give', 'us', 'second', 'time', 'check', 'us', 'oh', 'This', 'song', 'This', 'song', 'love', 'music', 'RT', 'suspect', 'want', 'haters', 'longer', 'even', 'Have', 'fun', 'wasting', 'time', 'want', 'favorite', 'bands', 'know', 'special', 'adore', 'gives', 'much', 'jamming', 'favorite', 'thinking', 'meanings', 'BVB', 'voiced', 'opinion', 'well', 'like', 'say', 'suggest', 'either', 'respond', 'suck', 'would', 'hate', 'pretty', 'sure', 'anything', 'Good', 'beautiful', 'Goodnight', 'love', 'sweet', 'really', 'excited', 'miss', 'greatest', 'friend', 'love', 'kellin', 'really', 'THAT', 'one', 'asked', 'That', 'unhealthy', 'obsession', 'told', 'Well', 'favorite', 'wizard', 'Harry', 'Bellatrix', 'So', 'unhealthy', 'obsession', 'Harry', 'judge', 'tryed', 'pretty', 'Just', 'definitely', 'Sylvester', 'Yayo', 'Good', 'would', 'like', 'Good', 'woke', 'ready', 'amazing', 'Good', 'night', 'Speaking', 'believeable', 'britsh', 'like', 'going', 'away', 'But', 'back', 'try', 'follow', 'return', 'soon', 'throw', 'cookies', 'Is', 'tweet', 'Just', 'oh', 'staring', 'love', 'love', 'diagnosed', 'depression', 'anxiety', 'admitted', 'mental', 'hospital', 'last', 'year', 'Retweet', 'DM', 'Like', 'magic', 'RT', 'notifications', 'sexy', 'selfie', 'DM', 'hope', 'whatever', 'bothering', 'gets', 'love', 'keep', 'chin', 'Smiles', 'look', 'adorable', 'feel', 'like', 'wont', 'ever', 'happen', 'deserve', 'love', 'important', 'person', 'life', 'even', 'know', 'getting', 'tired', 'Fuck', 'Your', 'obnoxious', 'Which', 'makes', 'much', 'love', 'Keep', 'head', 'congrats', 'inspiration', 'people', 'ten', 'awesome', 'Keep', 'makes', 'happy', 'people', 'tend', 'ask', 'miss', 'someone', 'dont', 'reply', 'miss', 'make', 'You', 'make', 'noticed', 'makes', 'feel', 'special', 'love', 'hope', 'everything', 'going', 'perfectly', 'You', 'amazing', 'Be', 'miss', 'tweets', 'understand', 'probably', 'busynor', 'something', 'miss', 'tweets', 'Come', 'back', 'soon', 'love', 'Your', 'tweets', 'make', 'always', 'support', 'decisions', 'love', 'replied', 'Im', 'You', 'thats', 'People', 'Ignore', 'happy', 'smile', 'average', 'girl', 'amazing', 'music', 'taste', 'awesome', 'Jk', 'fail', 'love', 'whoever', 'read', 'dont', 'see', 'anything', 'good', 'average', 'person', 'average', 'music', 'made', 'night', 'much', 'wish', 'But', 'RT', 'like', 'cover', 'Ill', 'follow', 'DM', 'Love', 'lot', 'done', 'barely', 'trust', 'anyone', 'would', 'love', 'friends', 'thougj', 'would', 'love', 'cuddle', 'Hey', 'everyone', 'posted', 'new', 'Warped', 'Tour', 'VLOG', 'invade', 'Chicago', 'try', 'stalk', 'Never', 'Shout', 'Enjoy', 'Honestly', 'feel', 'way', 'right', 'cant', 'even', 'explain', 'It', 'lazy', 'Basically', 'dull', 'person', 'would', 'love', 'Old', 'fashioned', 'dates', 'dunno', 'whats', 'wrong', 'want', 'know', 'love', 'Dont', 'let', 'assholes', 'get', 'Please', 'feel', 'better', 'great', 'idea', 'morning', 'like', 'Anon', 'The', 'capacity', 'human', 'beings', 'bore', 'one', 'another', 'seems', 'vastly', 'greater', 'Mencken', 'Man', 'rarely', 'reads', 'handwriting', 'wall', 'back', 'saw', 'werewolf', 'drinking', 'pina', 'colada', 'Trader', 'As', 'online', 'discussion', 'grows', 'probability', 'comparison', 'involving', 'Nazis', 'Hitler', 'approaches', 'compare', 'floating', 'point', 'numbers', 'solely', 'Stahl', 'pussy', 'compared', 'George', 'Bush', 'It', 'miracle', 'curiosity', 'survives', 'formal', 'Albert', 'Einstein', 'The', 'time', 'right', 'make', 'new', 'How', 'many', 'take', 'change', 'light', 'The', 'darkness', 'cause', 'light', 'bulb', 'change', 'Between', 'choice', 'two', 'always', 'pick', 'one', 'never', 'tried', 'Mae', 'West', 'Many', 'Go', 'soothingly', 'grease', 'lurks', 'skid', 'What', 'country', 'needs', 'good', 'dollar', 'plasma', 'There', 'three', 'ways', 'get', 'something', 'hire', 'forbid', 'kids', 'Sam', 'Sam', 'Janet', 'Sam', 'Janet', 'To', 'knock', 'thing', 'especially', 'cocked', 'arrogant', 'deep', 'delight', 'Georges', 'Santayana', 'growing', 'others', 'growing', 'burning', 'question', 'mind', 'every', 'dyslexic', 'Truth', 'valuable', 'thing', 'let', 'us', 'economize', 'Mark', 'Twain', 'First', 'Law', 'Push', 'something', 'hard', 'enough', 'fall', 'Please', 'ignore', 'previous', 'Life', 'state', 'nature', 'Thomas', 'Leviathan', 'drug', 'fashion', 'William', 'Lady', 'Luck', 'brings', 'added', 'income', 'Lady', 'friend', 'takes', 'away', 'recalls', 'former', 'caption', 'Kliban', 'go', 'working', 'reason', 'hen', 'goes', 'laying', 'Mencken', 'Poetry', 'evidence', 'If', 'life', 'burning', 'poetry', 'Leonard', 'Cohen', 'If', 'anything', 'go', 'tan', 'black', 'looks', 'great', 'How', 'many', 'college', 'football', 'players', 'take', 'screw', 'light', 'Only', 'gets', 'three', 'credits', 'Here', 'still', 'know', 'want', 'grow', 'Peter', 'Drucker', 'The', 'optimum', 'committee', 'Norman', 'Augustine', 'By', 'trying', 'easily', 'learn', 'endure', 'Another', 'Mark', 'Twain', 'In', 'land', 'Ship', 'Sun', 'driven', 'Grateful', 'Egyptian', 'Book', 'Dead', 'Death', 'way', 'telling', 'Geis', 'Beware', 'enterprises', 'require', 'new', 'You', 'singled', 'promotion', 'Dealing', 'failure', 'work', 'hard', 'Success', 'also', 'easy', 'solved', 'wrong', 'Work', 'hard', 'Anyone', 'never', 'made', 'mistake', 'never', 'tried', 'anything', 'Albert', 'Einstein', 'countryman', 'two', 'lawyers', 'like', 'fish', 'two', 'Ben', 'Franklin', 'The', 'incomprehensible', 'thing', 'world', 'Albert', 'Einstein', 'never', 'time', 'always', 'time', 'get', 'From', 'You', 'receive', 'legacy', 'place', 'Were', 'fewer', 'knaves', 'would', 'Anonymous', 'My', 'name', 'You', 'killed', 'Prepare', 'Memory', 'starting', 'point', 'He', 'lives', 'without', 'folly', 'less', 'wise', 'The', 'devil', 'finds', 'work', 'idle', 'circuits', 'women', 'kiss', 'always', 'reminds', 'one', 'shaking', 'The', 'Vintage', 'You', 'remember', 'something', 'dolphins', 'Flipper', 'work', 'wrinkled', 'hangs', 'Your', 'The', 'existence', 'god', 'implies', 'violation', 'Bunk', 'At', 'given', 'moment', 'important', 'people', 'world', 'important', 'jobs', 'contain', 'When', 'know', 'The', 'result', 'flattening', 'courage', 'mounteth', 'William', 'vivid', 'creative', 'mind', 'characterizes', 'tell', 'hard', 'Tell', 'much', 'get', 'James', 'Ling', 'man', 'old', 'regrets', 'take', 'place', 'John', 'Barrymore', 'We', 'Phone', 'wealth', 'prosperity', 'without', 'ready', 'let', 'Marcus', 'Book', 'He', 'walks', 'balancing', 'family', 'tree', 'cannot', 'cut', 'conscience', 'fit', 'Lillian', 'Hellman', 'Just', 'doctor', 'name', 'condition', 'mean', 'knows', 'conservative', 'man', 'two', 'perfectly', 'good', 'legs', 'never', 'learned', 'Franklin', 'Roosevelt', 'You', 'prefer', 'company', 'opposite', 'well', 'liked', 'Work', 'consists', 'whatever', 'body', 'obliged', 'Play', 'consists', 'whatever', 'body', 'obliged', 'Mark', 'Twain', 'Generosity', 'perfection', 'everlasting', 'talk', 'Marvin', 'Paranoid', 'Anroid', 'best', 'buy', 'quarter', 'telephone', 'call', 'right', 'Deprive', 'mirror', 'even', 'Czar', 'see', 'There', 'three', 'kinds', 'Damn', 'Disraeli', 'Underlying', 'Principle', 'Superiority', 'First', 'Progress', 'made', 'alternate', 'To', 'steal', 'thief', 'It', 'merely', 'retrieving', 'money', 'taxed', 'Californians', 'Your', 'mind', 'understands', 'The', 'world', 'looks', 'left', 'custody', 'Father', 'Robert', 'Capon', 'How', 'many', 'DEC', 'repairman', 'take', 'fix', 'flat', 'four', 'hold', 'car', 'one', 'swap', 'Research', 'know', 'Wernher', 'von', 'Braun', 'Real', 'Programmers', 'think', 'better', 'playing', 'Adventure', 'head', 'From', 'poem', 'know', 'God', 'forbid', 'Johann', 'Wolfgang', 'von', 'Goethe', 'worry', 'world', 'coming', 'end', 'already', 'tomorrow', 'Charles', 'Schultz', 'Genetics', 'explains', 'look', 'like', 'Soap', 'education', 'sudden', 'deadly', 'long', 'Mark', 'Twain', 'get', 'feeling', 'soon', 'something', 'appears', 'ceases', 'Burnett', 'man', 'paints', 'brains', 'What', 'makes', 'Universe', 'hard', 'comprehend', 'nothing', 'compare', 'If', 'salmon', 'caught', 'Canada', 'one', 'year', 'laid', 'end', 'end', 'across', 'Sahara', 'smell', 'would', 'absolutely', 'little', 'caution', 'outflanks', 'large', 'Bismarck', 'He', 'invents', 'adages', 'others', 'peruse', 'takes', 'along', 'rowboat', 'going', 'full', 'please', 'delete', 'anyone', 'Classified', 'material', 'requires', 'proper', 'You', 'happiness', 'parents', 'moved', 'leave', 'Blood', 'thicker', 'much', 'The', 'world', 'divided', 'two', 'kinds', 'think', 'world', 'divided', 'two', 'kinds', 'people', 'You', 'taken', 'To', 'Shakespeare', 'To', 'Nietzsche', 'To', 'Sartre', 'Do', 'Sinatra', 'To', 'criticize', 'incompetent', 'difficult', 'criticize', 'For', 'really', 'sweet', 'call', 'truth', 'get', 'Mark', 'History', 'repeat', 'historians', 'merely', 'repeat', 'Someone', 'speaking', 'well', 'human', 'animal', 'differs', 'lesser', 'primates', 'passion', 'lists', 'Allen', 'When', 'alone', 'Leonardo', 'da', 'Vinci', 'Try', 'relax', 'enjoy', 'Ashleigh', 'Brilliant', 'Beware', 'friends', 'false', 'How', 'hacker', 'fix', 'function', 'work', 'elements', 'He', 'changes', 'It', 'often', 'works', 'better', 'plug', 'programming', 'tool', 'exists', 'allow', 'structured', 'programmers', 'complain', 'unstructured', 'Ray', 'Simard', 'Why', 'lawyers', 'go', 'The', 'cats', 'keep', 'trying', 'bury', 'What', 'No', 'What', 'Never', 'Thomas', 'Hewitt', 'Law', 'Nobody', 'notices', 'things', 'go', 'Van', 'An', 'unbreakable', 'toy', 'useful', 'breaking', 'Stop', 'Happiness', 'right', 'next', 'take', 'Burning', 'stake', 'modern', 'There', 'heavier', 'burden', 'great', 'person', 'new', 'idea', 'crank', 'idea', 'Mark', 'Twain', 'monumental', 'idea', 'like', 'Samuel', 'Goldwyn', 'Your', 'domestic', 'life', 'may', 'The', 'earth', 'like', 'tiny', 'grain', 'much', 'illegal', 'The', 'unconstitutional', 'takes', 'bit', 'Henry', 'You', 'awarded', 'medal', 'disregarding', 'safety', 'saving', 'never', 'killed', 'read', 'many', 'obituaries', 'great', 'Clarence', 'Darrow', 'Troglodytism', 'necessarily', 'imply', 'low', 'cultural', 'Writing', 'code', 'place', 'human', 'hierarchy', 'worth', 'somewhere', 'grave', 'robbing', 'beneath', 'Gerald', 'Weinberg', 'Many', 'changes', 'mind', 'hesitate', 'Without', 'ice', 'cream', 'life', 'fame', 'Watch', 'one', 'Ratings', 'Network', 'executive', 'Dimensions', 'always', 'expressed', 'least', 'usable', 'expressed', 'furlongs', 'per', 'giddy', 'thinks', 'world', 'turns', 'William', 'Taming', 'Look', 'sofa', 'surprised', 'Life', 'whim', 'several', 'billion', 'cells', 'future', 'time', 'travel', 'The', 'end', 'labor', 'gain', 'difference', 'Mac', 'You', 'shake', 'Mac', 'clear', 'The', 'possible', 'interpretation', 'research', 'whatever', 'Ernest', 'Rutherford', 'The', 'famous', 'politician', 'trying', 'save', 'If', 'two', 'people', 'love', 'happy', 'end', 'Ernest', 'Hemingway', 'never', 'cope', 'adversity', 'traditional', 'manner', 'sulking', 'Tom', 'Ryan', 'Opinions', 'like', 'got', 'nobody', 'wants', 'look', 'Hal', 'Hickman', 'The', 'hardest', 'thing', 'world', 'understand', 'income', 'Albert', 'Einstein', 'must', 'understand', 'must', 'understand', 'There', 'two', 'ways', 'write', 'Only', 'third', 'one', 'No', 'parts', 'Refer', 'qualified', 'service', 'least', 'thought', 'somebody', 'stepped', 'White', 'go', 'seek', 'great', 'Francois', 'Rabelais', 'Salad', 'food', 'Documentation', 'castor', 'oil', 'Managers', 'know', 'must', 'good', 'programmers', 'hate', 'The', 'sum', 'intelligence', 'planet', 'population', 'Your', 'reasoning', 'excellent', 'basic', 'assumptions', 'tragedies', 'kill', 'Dorothy', 'Parker', 'Excuse', 'change', 'something', 'The', 'herd', 'instinct', 'among', 'economists', 'makes', 'sheep', 'look', 'like', 'independent', 'Any', 'sufficiently', 'advanced', 'technology', 'indistinguishable', 'Arthur', 'Clarke', 'If', 'make', 'right', 'immediately', 'best', 'Jury', 'Twelve', 'people', 'determine', 'client', 'better', 'feed', 'bats', 'You', 'think', 'hard', 'talk', 'Salinger', 'Under', 'deadline', 'pressure', 'next', 'If', 'want', 'Unless', 'blind', 'screaming', 'paroxysmally', 'hedonistic', 'Do', 'compromise', 'Janis', 'Joplin', 'An', 'Englishman', 'never', 'enjoys', 'except', 'noble', 'Herbert', 'man', 'wrapped', 'makes', 'small', 'When', 'means', 'communication', 'try', 'know', 'half', 'half', 'well', 'like', 'less', 'half', 'half', 'well', 'Tolkien', 'To', 'program', 'anything', 'programmable', 'man', 'turns', 'green', 'eschewed', 'The', 'attention', 'span', 'computer', 'long', 'electrical', 'Cudgel', 'thy', 'brains', 'dull', 'ass', 'mend', 'pace', 'Act', 'Scene', 'There', 'crack', 'light', 'gets', 'Leonard', 'Selected', 'Beware', 'new', 'TTY', 'After', 'string', 'together', 'lot', 'Shakespeare', 'Today', 'tomorrow', 'worried', 'Never', 'call', 'man', 'borrow', 'The', 'city', 'dead', 'antedates', 'city', 'Lewis', 'Mumford', 'never', 'met', 'piece', 'chocolate', 'One', 'good', 'reason', 'computers', 'work', 'people', 'never', 'stop', 'answer', 'One', 'proceed', 'informal', 'formal', 'formal', 'difference', 'Bell', 'Labs', 'Boy', 'Scouts', 'The', 'Boy', 'Scouts', 'adult', 'people', 'borrow', 'books', 'set', 'wet', 'glasses', 'Why', 'programmer', 'call', 'mother', 'long', 'Because', 'Our', 'problems', 'mostly', 'behind', 'What', 'fight', 'The', 'one', 'good', 'thing', 'repeating', 'mistakes', 'know', 'The', 'average', 'woman', 'would', 'rather', 'beauty', 'average', 'man', 'see', 'better', 'Atlee', 'modest', 'And', 'Winston', 'Churchill', 'HATE', 'arbitrary', 'especially', 'Stephen', 'Savitzky', 'You', 'create', 'opportunities', 'Blackmail', 'senior', 'Life', 'wasted', 'Zaphod', 'Beeblebrox', 'IV', 'Stability', 'nothing', 'else', 'sluggish', 'Life', 'dashing', 'bold', 'Any', 'clod', 'opinions', 'Charles', 'McCabe', 'hate', 'Harry', 'Dean', 'Stanton', 'sine', 'curve', 'goes', 'infinity', 'least', 'end', 'way', 'person', 'become', 'famous', 'without', 'George', 'Bernard', 'Shaw', 'Courage', 'greatest', 'present', 'The', 'sooner', 'animals', 'sooner', 'find', 'Ed', 'Bluestone', 'dullness', 'fool', 'whetstone', 'William', 'You', 'Like', 'Tuesday', 'Wednesday', 'rest', 'When', 'people', 'thrown', 'unemployment', 'Calvin', 'Coolidge', 'If', 'one', 'cannot', 'enjoy', 'reading', 'book', 'use', 'reading', 'Oscar', 'Wilde', 'If', 'God', 'would', 'give', 'clear', 'Like', 'making', 'large', 'deposit', 'name', 'Swiss', 'Woody', 'Allen', 'You', 'Told', 'Go', 'Home', 'Prepare', 'measure', 'Protagoras', 'For', 'fortune', 'reminds', 'everyone', 'Marvin', 'Even', 'cabbage', 'may', 'look', 'flies', 'wanton', 'boys', 'kill', 'us', 'You', 'gain', 'money', 'immoral', 'foolish', 'consistency', 'hobgoblin', 'little', 'Samuel', 'Johnson', 'bagpipe', 'One', 'tells', 'unpleasant', 'Truth', 'mighty', 'There', 'nothing', 'wrong', 'except', 'Mark', 'Twain', 'never', 'old', 'become', 'Mae', 'West', 'Proclaim', 'liberty', 'throughout', 'land', 'inhabitants', 'Leviticus', 'taken', 'moderation', 'cannot', 'hurt', 'Mark', 'Twain', 'American', 'Non', 'Sequitur', 'We', 'make', 'We', 'like', 'mind', 'like', 'steel', 'trap', 'full', 'Foghorn', 'Resisting', 'temptation', 'easier', 'think', 'probably', 'get', 'another', 'chance', 'later', 'If', 'one', 'could', 'get', 'wonderful', 'feeling', 'accomplishment', 'without', 'accomplish', 'difference', 'betweeen', 'USL', 'Graf', 'The', 'Graf', 'Zeppelin', 'represented', 'cutting', 'edge', 'technology', 'If', 'work', 'flow', 'competent', 'man', 'You', 'like', 'form', 'new', 'friendships', 'make', 'new', 'Everything', 'Moderation', 'Lazarus', 'Long', 'Angels', 'heard', 'us', 'go', 'Tom', 'Lehrer', 'Nothing', 'impossible', 'man', 'sentiment', 'appropriate', 'occasion', 'Ambrose', 'All', 'ask', 'life', 'constant', 'exaggerated', 'sense', 'Horse', 'sense', 'thing', 'horse', 'keeps', 'betting', 'Fields', 'Vincent', 'Quiet', 'Placid', 'persons', 'unless', 'Need', 'National', 'Some', 'people', 'department', 'recognize', 'subtlety', 'hit', 'Hokey', 'religions', 'ancient', 'weapons', 'substitute', 'good', 'blaster', 'Han', 'Solo', 'definitely', 'The', 'question', 'ask', 'next', 'list', 'Unless', 'one', 'best', 'aim', 'Anthony', 'Hope', 'Your', 'boyfriend', 'takes', 'chocolate', 'What', 'difference', 'One', 'leg', 'married', 'William', 'Taming', 'The', 'opossum', 'sophisticated', 'It', 'even', 'get', 'Beware', 'bugs', 'proved', 'tried', 'Donald', 'Knuth', 'Eternal', 'nothingness', 'fine', 'happen', 'dressed', 'Woody', 'Allen', 'Ever', 'notice', 'even', 'busiest', 'people', 'never', 'busy', 'tell', 'busy', 'What', 'country', 'needs', 'good', 'Stay', 'away', 'flying', 'saucers', 'Never', 'count', 'chickens', 'rip', 'lips', 'Just', 'go', 'trusting', 'fate', 'twelve', 'people', 'smart', 'enough', 'get', 'jury', 'Success', 'happens', 'something', 'goes', 'Arnold', 'Glasow', 'Williams', 'If', 'enough', 'data', 'anything', 'may', 'proven', 'statistical', 'Reliable', 'software', 'must', 'kill', 'people', 'Andy', 'Mickel', 'If', 'string', 'one', 'another', 'You', 'look', 'like', 'million', 'All', 'green', 'chemist', 'discovers', 'laundry', 'additive', 'rhymes', 'Alexander', 'Graham', 'Bell', 'alive', 'well', 'New', 'still', 'waiting', 'dial', 'Ninety', 'percent', 'everything', 'Among', 'chosen', 'He', 'He', 'considered', 'graceful', 'speaker', 'say', 'nothing', 'Your', 'reality', 'lies', 'glad', 'say', 'grasp', 'Baron', 'von', 'Munchausen', 'Any', 'given', 'running', 'The', 'sooner', 'fall', 'time', 'catch', 'Live', 'every', 'day', 'like', 'last', 'someday', 'Follow', 'river', 'eventually', 'find', 'spell', 'pronounce', 'Foreigners', 'always', 'spell', 'better', 'Mark', 'In', 'thing', 'Murray', 'Rothbard', 'UFOs', 'Air', 'Force', 'good', 'photograph', 'knowing', 'Ansel', 'Adams', 'One', 'perilous', 'emergency', 'thinks', 'Ambrose', 'Nothing', 'repulsive', 'nothing', 'magnetic', 'Howard', 'Henrichs', 'Whipit', 'Jesus', 'killed', 'Moral', 'There', 'danger', 'good', 'fortune', 'fun', 'This', 'In', 'face', 'entropy', 'kind', 'pretend', 'want', 'keep', 'writing', 'good', 'Karl', 'require', 'three', 'things', 'must', 'Dorothy', 'Parker', 'The', 'way', 'make', 'small', 'fortune', 'commodities', 'market', 'start', 'large', 'Mirrors', 'reflect', 'little', 'throwing', 'back', 'Jean', 'Cocteau', 'Pronounce', 'Make', 'right', 'make', 'Confession', 'good', 'soul', 'sense', 'tweed', 'coat', 'good', 'Peter', 'de', 'Vries', 'man', 'shall', 'never', 'enriched', 'Thomas', 'Draxe', 'opiate', 'Lucky', 'How', 'save', 'drowning', 'Throw', 'The', 'debate', 'rages', 'Is', 'Bachtrian', 'Try', 'good', 'life', 'Bridge', 'Pay', 'Grain', 'grows', 'best', 'Ursula', 'LeGuin', 'Many', 'later', 'The', 'things', 'stay', 'Ludwig', 'van', 'Beethoven', 'jeered', 'sports', 'fans', 'finishing', 'second', 'Irish', 'jig', 'kill', 'man', 'costs', 'nothing', 'Winston', 'formal', 'declarations', 'Chicken', 'Little', 'Are', 'imagination', 'Midsummer', 'Are', 'imagination', 'Midsummer', 'lot', 'people', 'know', 'believe', 'positive', 'believe', 'everything', 'positively', 'Lew', 'Col', 'light', 'wife', 'doth', 'make', 'heavy', 'Merchant', 'Holy', 'Nobody', 'agreeable', 'uninvited', 'What', 'green', 'lives', 'Moby', 'What', 'purple', 'conquered', 'Alexander', 'Public', 'merely', 'multiplied', 'Mark', 'There', 'stupidity', 'hydrogen', 'longer', 'shelf', 'Frank', 'Zappa', 'Acting', 'art', 'consists', 'keeping', 'audience', 'God', 'gives', 'us', 'thank', 'goodness', 'choose', 'This', 'memorable', 'month', 'matter', 'hard', 'try', 'forget', 'You', 'go', 'Be', 'careful', 'reading', 'health', 'might', 'die', 'Mark', 'Twain', 'And', 'told', 'Was', 'sound', 'could', 'kill', 'Kate', 'Bush', 'The', 'generation', 'random', 'numbers', 'important', 'left', 'like', 'always', 'need', 'Art', 'Leo', 'Who', 'leisure', 'Seneca', 'Winston', 'My', 'kingdom', 'never', 'see', 'read', 'Jesus', 'may', 'love', 'think', 'garbage', 'wrapped', 'Michael', 'take', 'William', 'Whenever', 'people', 'agree', 'always', 'feel', 'must', 'Oscar', 'Wilde', 'It', 'much', 'easier', 'suggest', 'solutions', 'know', 'nothing', 'Beware', 'tall', 'blond', 'man', 'one', 'black', 'The', 'computing', 'field', 'always', 'need', 'new', 'Alan', 'Perlis', 'The', 'trouble', 'programmers', 'never', 'tell', 'programmer', 'Seymour', 'Cray', 'enough', 'must', 'talent', 'Alexander', 'Korda', 'education', 'begin', 'least', 'years', 'Oliver', 'Wendell', 'Holmes', 'fanatic', 'person', 'change', 'mind', 'change', 'Winston', 'Churchill', 'You', 'judge', 'book', 'way', 'wears', 'Far', 'duller', 'tooth', 'spend', 'quiet', 'Postulate', 'Democratic', 'No', 'property', 'safe', 'legislature', 'Pull', 'things', 'You', 'rent', 'space', 'Fitzgerald', 'rich', 'different', 'They', 'In', 'five', 'year', 'period', 'get', 'one', 'superb', 'programming', 'control', 'five', 'year', 'period', 'No', 'matter', 'Buckaroo', 'Banzai', 'think', 'trash', 'important', 'manifestation', 'culture', 'Johnny', 'Legend', 'There', 'satisfaction', 'hanging', 'man', 'object', 'Shaw', 'Exactitude', 'small', 'matters', 'essence', 'Why', 'chicken', 'cross', 'He', 'giving', 'last', 'They', 'also', 'surf', 'stand', 'Change', 'thoughts', 'change', 'first', 'While', 'opinions', 'conviction', 'correctness', 'never', 'Welcome', 'working', 'know', 'thrill', 'hope', 'kill', 'The', 'difference', 'right', 'word', 'almost', 'right', 'word', 'difference', 'lightning', 'lightning', 'Mark', 'Twain', 'Democracy', 'four', 'wolves', 'voting', 'The', 'Is', 'thing', 'still', 'Homer', 'Simpson', 'tension', 'holding', 'Adversity', 'makes', 'prosperity', 'French', 'Proverb', 'Egotism', 'anesthetic', 'given', 'kindly', 'nature', 'relieve', 'pain', 'damned', 'Bellamy', 'Brooks', 'Economics', 'extremely', 'useful', 'form', 'employment', 'John', 'Kenneth', 'Galbraith', 'winning', 'pennant', 'one', 'Casey', 'Stengel', 'done', 'without', 'hath', 'William', 'Comedy', 'You', 'good', 'luck', 'overcome', 'many', 'day', 'without', 'sunshine', 'like', 'When', 'When', 'When', 'The', 'flow', 'chart', 'thoroughly', 'oversold', 'piece', 'program', 'Frederick', 'The', 'Mythical', 'Man', 'Month', 'Ships', 'safe', 'never', 'meant', 'stay', 'Black', 'holes', 'God', 'dividing']\n"
          ]
        }
      ]
    },
    {
      "cell_type": "code",
      "source": [
        "import string\n",
        "import re\n",
        "from os import listdir\n",
        "from collections import Counter\n",
        "from nltk.corpus import stopwords\n",
        "# load doc and add to vocab\n",
        "def add_doc_to_vocab(filename, vocab):\n",
        "# load doc\n",
        "    doc = load_doc(filename)\n",
        "# clean doc\n",
        "    tokens = clean_doc(doc)\n",
        "# update counts\n",
        "    vocab.update(tokens)\n",
        "# load all docs in a directory\n",
        "def process_docs(directory, vocab):\n",
        "# walk through all files in the folder\n",
        "    for filename in listdir(directory):\n",
        "# skip any reviews in the test set\n",
        "        if filename.startswith( 'tweet' ):\n",
        "            continue\n",
        "# create the full path of the file to open\n",
        "        path = directory + '/' + filename\n",
        "# add doc to vocab\n",
        "        add_doc_to_vocab(path, vocab)"
      ],
      "metadata": {
        "id": "L-kMjACpA5sq"
      },
      "execution_count": 5,
      "outputs": []
    },
    {
      "cell_type": "code",
      "source": [
        "# define vocab\n",
        "vocab = Counter()\n",
        "# add all docs to vocab\n",
        "process_docs( '/content/drive/My Drive/ML/twitter' , vocab)\n",
        "process_docs( '/content/drive/My Drive/ML/twitter' , vocab)\n",
        "# print the size of the vocab\n",
        "print(len(vocab))"
      ],
      "metadata": {
        "colab": {
          "base_uri": "https://localhost:8080/"
        },
        "id": "RamgW5X9A6DK",
        "outputId": "668cc843-8b4e-467c-cb5d-44cf70d7549c"
      },
      "execution_count": 6,
      "outputs": [
        {
          "output_type": "stream",
          "name": "stdout",
          "text": [
            "2259\n"
          ]
        }
      ]
    },
    {
      "cell_type": "code",
      "source": [
        "# # print the top words in the vocab\n",
        "print(vocab.most_common(50))\n",
        "# # keep tokens with a min occurrence\n",
        "min_occurane = 5\n",
        "tokens = [k for k,c in vocab.items() if c >= min_occurane]\n",
        "print(len(tokens))\n",
        "def save_list(lines, filename):\n",
        "    data = ' \\n ' .join(lines)\n",
        "# open file\n",
        "    file = open(filename, 'w' )\n",
        "# write text\n",
        "    file.write(data)\n",
        "# close file\n",
        "    file.close()\n",
        "\n",
        "# # save tokens to a vocabulary file\n",
        "save_list(tokens, 'vocab.txt' )"
      ],
      "metadata": {
        "colab": {
          "base_uri": "https://localhost:8080/"
        },
        "id": "_b9iX8UoA6ei",
        "outputId": "5b525672-eee1-47b1-8e6c-a83eadd52950"
      },
      "execution_count": 7,
      "outputs": [
        {
          "output_type": "stream",
          "name": "stdout",
          "text": [
            "[('The', 110), ('What', 90), ('RT', 88), ('How', 84), ('like', 70), ('know', 70), ('love', 56), ('Do', 52), ('You', 48), ('get', 46), ('people', 46), ('Have', 46), ('one', 40), ('good', 40), ('never', 36), ('much', 32), ('think', 32), ('If', 32), ('would', 32), ('make', 30), ('want', 28), ('right', 28), ('feel', 28), ('work', 28), ('someone', 28), ('still', 26), ('new', 26), ('Why', 26), ('go', 26), ('man', 26), ('need', 24), ('ever', 24), ('Is', 24), ('Mark', 24), ('life', 22), ('take', 22), ('many', 22), ('day', 22), ('always', 22), ('Your', 22), ('thing', 22), ('miss', 22), ('When', 22), ('time', 20), ('hard', 20), ('way', 20), ('makes', 20), ('We', 20), ('two', 20), ('It', 20)]\n",
            "309\n"
          ]
        }
      ]
    },
    {
      "cell_type": "code",
      "source": [
        "vocab_filename = 'vocab.txt'\n",
        "vocab = load_doc(vocab_filename)\n",
        "vocab = set(vocab.split())\n"
      ],
      "metadata": {
        "id": "cRI88TP4A7dC"
      },
      "execution_count": 8,
      "outputs": []
    },
    {
      "cell_type": "code",
      "source": [
        "# turn a doc into clean tokens\n",
        "def clean_doc(doc, vocab):\n",
        "# split into tokens by white space\n",
        "    tokens = doc.split()\n",
        "# prepare regex for char filtering\n",
        "    re_punc = re.compile( ' [%s] ' % re.escape(string.punctuation))\n",
        "# remove punctuation from each word\n",
        "    tokens = [re_punc.sub( '' , w) for w in tokens]\n",
        "# filter out tokens not in vocab\n",
        "    tokens = [w for w in tokens if w in vocab]\n",
        "    tokens = ' ' .join(tokens)\n",
        "    return tokens"
      ],
      "metadata": {
        "id": "v6SyYiNWBSy7"
      },
      "execution_count": 9,
      "outputs": []
    },
    {
      "cell_type": "code",
      "source": [
        "# load all docs in a directory\n",
        "def process_docs(directory, vocab, is_train):\n",
        "    documents = list()\n",
        "# walk through all files in the folder\n",
        "    for filename in listdir(directory):\n",
        "# skip any reviews in the test set\n",
        "        if is_train and filename.startswith( 'tweet' ):\n",
        "            continue\n",
        "        if not is_train and not filename.startswith( 'tweet' ):\n",
        "            continue\n",
        "# create the full path of the file to open\n",
        "        path = directory + '/' + filename\n",
        "# load the doc\n",
        "        doc = load_doc(path)\n",
        "# clean doc\n",
        "        tokens = clean_doc(doc, vocab)\n",
        "# add to list\n",
        "        documents.append(tokens)\n",
        "    return documents\n"
      ],
      "metadata": {
        "id": "n1OR4BKtBTRx"
      },
      "execution_count": 10,
      "outputs": []
    },
    {
      "cell_type": "code",
      "source": [
        "import string\n",
        "import re\n",
        "from os import listdir\n",
        "from numpy import array\n",
        "from keras.preprocessing.text import Tokenizer\n",
        "from keras_preprocessing.sequence import pad_sequences\n",
        "from keras.utils.vis_utils import plot_model\n",
        "from keras.models import Sequential\n",
        "from keras.layers import Dense\n",
        "from keras.layers import Flatten\n",
        "from keras.layers import Embedding\n",
        "from keras.layers.convolutional import Conv1D\n",
        "from keras.layers.convolutional import MaxPooling1D\n",
        "def load_clean_dataset(vocab, is_train):\n",
        "    neg = process_docs( '/content/drive/My Drive/ML/twitter' , vocab, is_train)\n",
        "    pos = process_docs( '/content/drive/My Drive/ML/twitter' , vocab, is_train)\n",
        "    docs = neg + pos\n",
        "    labels = array([0 for _ in range(len(neg))] + [1 for _ in range(len(pos))])\n",
        "    return docs, labels"
      ],
      "metadata": {
        "id": "rnF4TKVdBTri"
      },
      "execution_count": 11,
      "outputs": []
    },
    {
      "cell_type": "code",
      "source": [
        "def create_tokenizer(lines):\n",
        "    tokenizer = Tokenizer()\n",
        "    tokenizer.fit_on_texts(lines)\n",
        "    return tokenizer"
      ],
      "metadata": {
        "id": "0dy9wYhGBeIS"
      },
      "execution_count": 12,
      "outputs": []
    },
    {
      "cell_type": "code",
      "source": [
        "def encode_docs(tokenizer, max_length, docs):\n",
        "# integer encode\n",
        "    encoded = tokenizer.texts_to_sequences(docs)\n",
        "# pad sequences\n",
        "    padded = pad_sequences(encoded, maxlen=max_length, padding= 'post' )\n",
        "    return padded"
      ],
      "metadata": {
        "id": "5q7J_s2ICei7"
      },
      "execution_count": 13,
      "outputs": []
    },
    {
      "cell_type": "code",
      "source": [
        "# define the model\n",
        "def define_model(vocab_size, max_length):\n",
        "    model = Sequential()\n",
        "    model.add(Embedding(vocab_size, 100, input_length=max_length))\n",
        "    model.add(Conv1D(filters=32, kernel_size=8, activation= 'relu' ))\n",
        "    model.add(MaxPooling1D(pool_size=2))\n",
        "    model.add(Flatten())\n",
        "    model.add(Dense(50, activation= 'relu'))\n",
        "    model.add(Dense(1, activation= 'sigmoid' ))\n",
        "# compile network\n",
        "    model.compile(loss= 'binary_crossentropy' , optimizer= 'adam' , metrics=[ 'accuracy' ])\n",
        "# summarize defined model\n",
        "    model.summary()\n",
        "    plot_model(model, to_file= 'model.png' , show_shapes=True)\n",
        "    return model"
      ],
      "metadata": {
        "id": "0ZAy2R7OCfAa"
      },
      "execution_count": 14,
      "outputs": []
    },
    {
      "cell_type": "code",
      "source": [
        "# load the vocabulary\n",
        "vocab_filename = 'vocab.txt'\n",
        "vocab = load_doc(vocab_filename)\n",
        "vocab = set(vocab.split())\n",
        "# load training data\n",
        "train_docs, ytrain = load_clean_dataset(vocab, True)\n",
        "# create the tokenizer\n",
        "tokenizer = create_tokenizer(train_docs)\n",
        "# # define vocabulary size\n",
        "vocab_size = len(tokenizer.word_index) + 1\n",
        "# print( ' Vocabulary size: %d ' % vocab_size)\n",
        "# # calculate the maximum sequence length\n",
        "max_length = max([len(s.split()) for s in train_docs])\n",
        "print( ' Maximum length: %d ' % max_length)\n",
        "# encode data\n",
        "Xtrain = encode_docs(tokenizer, max_length, train_docs)\n",
        "# define model\n",
        "model = define_model(vocab_size, max_length)"
      ],
      "metadata": {
        "colab": {
          "base_uri": "https://localhost:8080/"
        },
        "id": "o7IsUl5hCfSp",
        "outputId": "d54e17dd-7f2a-44ff-b834-185dd78b554d"
      },
      "execution_count": 15,
      "outputs": [
        {
          "output_type": "stream",
          "name": "stdout",
          "text": [
            " Maximum length: 2056 \n",
            "Model: \"sequential\"\n",
            "_________________________________________________________________\n",
            " Layer (type)                Output Shape              Param #   \n",
            "=================================================================\n",
            " embedding (Embedding)       (None, 2056, 100)         30000     \n",
            "                                                                 \n",
            " conv1d (Conv1D)             (None, 2049, 32)          25632     \n",
            "                                                                 \n",
            " max_pooling1d (MaxPooling1D  (None, 1024, 32)         0         \n",
            " )                                                               \n",
            "                                                                 \n",
            " flatten (Flatten)           (None, 32768)             0         \n",
            "                                                                 \n",
            " dense (Dense)               (None, 50)                1638450   \n",
            "                                                                 \n",
            " dense_1 (Dense)             (None, 1)                 51        \n",
            "                                                                 \n",
            "=================================================================\n",
            "Total params: 1,694,133\n",
            "Trainable params: 1,694,133\n",
            "Non-trainable params: 0\n",
            "_________________________________________________________________\n"
          ]
        }
      ]
    },
    {
      "cell_type": "code",
      "source": [
        "model.fit(Xtrain, ytrain, epochs=10, verbose=2)\n"
      ],
      "metadata": {
        "colab": {
          "base_uri": "https://localhost:8080/"
        },
        "id": "Tjym0k7xCfoa",
        "outputId": "091b8de3-b518-4984-c1ec-541954775cf4"
      },
      "execution_count": 16,
      "outputs": [
        {
          "output_type": "stream",
          "name": "stdout",
          "text": [
            "Epoch 1/10\n",
            "1/1 - 1s - loss: 0.6936 - accuracy: 0.5000 - 1s/epoch - 1s/step\n",
            "Epoch 2/10\n",
            "1/1 - 0s - loss: 1.1801 - accuracy: 0.5000 - 46ms/epoch - 46ms/step\n",
            "Epoch 3/10\n",
            "1/1 - 0s - loss: 0.7314 - accuracy: 0.5000 - 45ms/epoch - 45ms/step\n",
            "Epoch 4/10\n",
            "1/1 - 0s - loss: 0.6931 - accuracy: 0.5000 - 44ms/epoch - 44ms/step\n",
            "Epoch 5/10\n",
            "1/1 - 0s - loss: 0.6931 - accuracy: 0.5000 - 44ms/epoch - 44ms/step\n",
            "Epoch 6/10\n",
            "1/1 - 0s - loss: 0.6931 - accuracy: 0.5000 - 44ms/epoch - 44ms/step\n",
            "Epoch 7/10\n",
            "1/1 - 0s - loss: 0.6932 - accuracy: 0.5000 - 43ms/epoch - 43ms/step\n",
            "Epoch 8/10\n",
            "1/1 - 0s - loss: 0.6931 - accuracy: 0.5000 - 44ms/epoch - 44ms/step\n",
            "Epoch 9/10\n",
            "1/1 - 0s - loss: 0.6931 - accuracy: 0.5000 - 46ms/epoch - 46ms/step\n",
            "Epoch 10/10\n",
            "1/1 - 0s - loss: 0.6931 - accuracy: 0.5000 - 44ms/epoch - 44ms/step\n"
          ]
        },
        {
          "output_type": "execute_result",
          "data": {
            "text/plain": [
              "<keras.callbacks.History at 0x7fd118264c70>"
            ]
          },
          "metadata": {},
          "execution_count": 16
        }
      ]
    },
    {
      "cell_type": "code",
      "source": [
        "model.save( 'model.h5' )"
      ],
      "metadata": {
        "id": "DqUseWk4CtGS"
      },
      "execution_count": 17,
      "outputs": []
    },
    {
      "cell_type": "code",
      "source": [
        "# load all reviews\n",
        "from keras.models import load_model\n",
        "\n",
        "test_docs, ytest = load_clean_dataset(vocab, False)\n",
        "# create the tokenizer\n",
        "# encode data\n",
        "Xtest = encode_docs(tokenizer, max_length, test_docs)\n",
        "model = load_model( 'model.h5' )\n",
        "# _, acc = model.evaluate(Xtrain, ytrain, verbose=0)\n",
        "# print( ' Train Accuracy: %f ' % (acc*100))\n",
        "_, acc = model.evaluate(Xtest, ytest, verbose=0)\n",
        "print( ' Test Accuracy: %f ' % (acc*100))\n"
      ],
      "metadata": {
        "colab": {
          "base_uri": "https://localhost:8080/"
        },
        "id": "lIsBKYZCCtia",
        "outputId": "6f57bbe9-2282-4d83-ab11-02e230e86c8f"
      },
      "execution_count": 18,
      "outputs": [
        {
          "output_type": "stream",
          "name": "stdout",
          "text": [
            " Test Accuracy: 50.000000 \n"
          ]
        }
      ]
    },
    {
      "cell_type": "code",
      "source": [
        "import string\n",
        "import re\n",
        "from os import listdir\n",
        "from numpy import array\n",
        "from keras.preprocessing.text import Tokenizer\n",
        "from keras_preprocessing.sequence import pad_sequences\n",
        "from keras.models import load_model\n",
        "# classify a review as negative or positive\n",
        "def predict_sentiment(review, vocab, tokenizer, max_length, model):\n",
        "# clean review\n",
        "    line = clean_doc(review, vocab)\n",
        "# encode and pad review\n",
        "    padded = encode_docs(tokenizer, max_length, [line])\n",
        "# predict sentiment\n",
        "    yhat = model.predict(padded, verbose=0)\n",
        "# retrieve predicted percentage and label\n",
        "    percent_pos = yhat[0,0]\n",
        "    if round(percent_pos) == 0:\n",
        "        return (1-percent_pos), 'Depression'\n",
        "    return percent_pos, 'No Depression'"
      ],
      "metadata": {
        "id": "MC5dXJi7C0KC"
      },
      "execution_count": 19,
      "outputs": []
    },
    {
      "cell_type": "code",
      "source": [
        "text = ' Feeling a strange mix of excited and sad. Such a big change looming '\n",
        "percent, sentiment = predict_sentiment(text, vocab, tokenizer, max_length, model)\n",
        "print( ' Review: [%s]\\nSentiment: %s (%.3f%%) ' % (text, sentiment, percent*100))\n",
        "# test no depression\n",
        "text = ' why is this their go to song agsdhsjjs i mean SAME but '\n",
        "percent, sentiment = predict_sentiment(text, vocab, tokenizer, max_length, model)\n",
        "print( ' Review: [%s]\\nSentiment: %s (%.3f%%) ' % (text, sentiment, percent*100))\n"
      ],
      "metadata": {
        "colab": {
          "base_uri": "https://localhost:8080/"
        },
        "id": "FCaAlER_C3kj",
        "outputId": "a8adf695-8ef9-425f-fc02-d73e567fdc55"
      },
      "execution_count": 20,
      "outputs": [
        {
          "output_type": "stream",
          "name": "stdout",
          "text": [
            " Review: [ Feeling a strange mix of excited and sad. Such a big change looming ]\n",
            "Sentiment: No Depression (50.138%) \n",
            " Review: [ why is this their go to song agsdhsjjs i mean SAME but ]\n",
            "Sentiment: No Depression (50.150%) \n"
          ]
        }
      ]
    }
  ]
}